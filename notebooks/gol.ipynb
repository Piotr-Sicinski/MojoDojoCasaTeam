{
 "cells": [
  {
   "cell_type": "code",
   "execution_count": 23,
   "metadata": {},
   "outputs": [],
   "source": [
    "from qiskit import QuantumCircuit, Aer, transpile\n",
    "\n",
    "\n",
    "def digital_alive(state : bool, neighbors : list[bool]):\n",
    "    \"\"\"Returns whether a cell is alive in the next generation.\"\"\"\n",
    "    return (state and sum(neighbors) in [2, 3]) or (not state and sum(neighbors) == 3)\n",
    "\n",
    "def quantum_alive(state : bool, neighbors : list[bool]):\n",
    "    \"\"\"Returns whether a cell is alive in the next generation.\"\"\"\n",
    "    ## init circuit\n",
    "    qc = QuantumCircuit(14, 1)\n",
    "    qc.x(0) if state else qc.id(0)\n",
    "    qc.x([i + 1 for i in range(len(neighbors)) if neighbors[i]])\n",
    "\n",
    "    \"\"\" \n",
    "        TODO:\n",
    "        1. Do the addition of the neighbors\n",
    "        2. Make a decision based on the result of the addition\n",
    "        3. Measure the output qubit\n",
    "    \"\"\"\n",
    "\n",
    "    # Random stuff for the time begin\n",
    "    for i in range(1, 9):\n",
    "        qc.ccx(0, i, 9)  \n",
    "\n",
    "    qc.measure(9, 0)\n",
    "    result = Aer.get_backend('qasm_simulator').run(transpile(qc, Aer.get_backend('qasm_simulator'))).result()\n",
    "    print(result.get_counts())\n",
    "    \n",
    "    ones = result.get_counts().get('1', 0)\n",
    "    zeros = result.get_counts().get('0', 0)\n",
    "\n",
    "    return ones > zeros\n",
    "\n",
    "\n",
    "\n",
    "\n",
    "\n",
    "\n",
    "\n",
    "\n",
    "\n",
    "\n",
    "\n"
   ]
  },
  {
   "cell_type": "code",
   "execution_count": 20,
   "metadata": {},
   "outputs": [],
   "source": [
    "%matplotlib inline"
   ]
  },
  {
   "cell_type": "code",
   "execution_count": 24,
   "metadata": {},
   "outputs": [
    {
     "name": "stdout",
     "output_type": "stream",
     "text": [
      "Digital:  False\n",
      "{'0': 1024}\n",
      "Quantum:  False\n"
     ]
    }
   ],
   "source": [
    "state = False\n",
    "neighbors = [True, False, True, True, False, False, True, True]\n",
    "\n",
    "\n",
    "print(\"Digital: \", digital_alive(state, neighbors))\n",
    "print(\"Quantum: \", quantum_alive(state, neighbors))\n",
    "\n"
   ]
  },
  {
   "cell_type": "code",
   "execution_count": null,
   "metadata": {},
   "outputs": [],
   "source": []
  }
 ],
 "metadata": {
  "kernelspec": {
   "display_name": ".venv",
   "language": "python",
   "name": "python3"
  },
  "language_info": {
   "codemirror_mode": {
    "name": "ipython",
    "version": 3
   },
   "file_extension": ".py",
   "mimetype": "text/x-python",
   "name": "python",
   "nbconvert_exporter": "python",
   "pygments_lexer": "ipython3",
   "version": "3.11.5"
  },
  "orig_nbformat": 4
 },
 "nbformat": 4,
 "nbformat_minor": 2
}
